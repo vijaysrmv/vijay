{
 "cells": [
  {
   "cell_type": "code",
   "execution_count": 72,
   "metadata": {},
   "outputs": [],
   "source": [
    "import pandas as pd"
   ]
  },
  {
   "cell_type": "code",
   "execution_count": 73,
   "metadata": {},
   "outputs": [],
   "source": [
    "import numpy as np"
   ]
  },
  {
   "cell_type": "code",
   "execution_count": 74,
   "metadata": {},
   "outputs": [],
   "source": [
    "data=pd.read_csv(\"2.csv\")"
   ]
  },
  {
   "cell_type": "code",
   "execution_count": 75,
   "metadata": {},
   "outputs": [
    {
     "data": {
      "text/html": [
       "<div>\n",
       "<style scoped>\n",
       "    .dataframe tbody tr th:only-of-type {\n",
       "        vertical-align: middle;\n",
       "    }\n",
       "\n",
       "    .dataframe tbody tr th {\n",
       "        vertical-align: top;\n",
       "    }\n",
       "\n",
       "    .dataframe thead th {\n",
       "        text-align: right;\n",
       "    }\n",
       "</style>\n",
       "<table border=\"1\" class=\"dataframe\">\n",
       "  <thead>\n",
       "    <tr style=\"text-align: right;\">\n",
       "      <th></th>\n",
       "      <th>No</th>\n",
       "      <th>X1 transaction date</th>\n",
       "      <th>X2 house age</th>\n",
       "      <th>X3 distance to the nearest MRT station</th>\n",
       "      <th>X4 number of convenience stores</th>\n",
       "      <th>X5 latitude</th>\n",
       "      <th>X6 longitude</th>\n",
       "      <th>Y house price of unit area</th>\n",
       "    </tr>\n",
       "  </thead>\n",
       "  <tbody>\n",
       "    <tr>\n",
       "      <th>0</th>\n",
       "      <td>1</td>\n",
       "      <td>2012.917</td>\n",
       "      <td>32.0</td>\n",
       "      <td>84.87882</td>\n",
       "      <td>10</td>\n",
       "      <td>24.98298</td>\n",
       "      <td>121.54024</td>\n",
       "      <td>37.9</td>\n",
       "    </tr>\n",
       "    <tr>\n",
       "      <th>1</th>\n",
       "      <td>2</td>\n",
       "      <td>2012.917</td>\n",
       "      <td>19.5</td>\n",
       "      <td>306.59470</td>\n",
       "      <td>9</td>\n",
       "      <td>24.98034</td>\n",
       "      <td>121.53951</td>\n",
       "      <td>42.2</td>\n",
       "    </tr>\n",
       "    <tr>\n",
       "      <th>2</th>\n",
       "      <td>3</td>\n",
       "      <td>2013.583</td>\n",
       "      <td>13.3</td>\n",
       "      <td>561.98450</td>\n",
       "      <td>5</td>\n",
       "      <td>24.98746</td>\n",
       "      <td>121.54391</td>\n",
       "      <td>47.3</td>\n",
       "    </tr>\n",
       "    <tr>\n",
       "      <th>3</th>\n",
       "      <td>4</td>\n",
       "      <td>2013.500</td>\n",
       "      <td>13.3</td>\n",
       "      <td>561.98450</td>\n",
       "      <td>5</td>\n",
       "      <td>24.98746</td>\n",
       "      <td>121.54391</td>\n",
       "      <td>54.8</td>\n",
       "    </tr>\n",
       "    <tr>\n",
       "      <th>4</th>\n",
       "      <td>5</td>\n",
       "      <td>2012.833</td>\n",
       "      <td>5.0</td>\n",
       "      <td>390.56840</td>\n",
       "      <td>5</td>\n",
       "      <td>24.97937</td>\n",
       "      <td>121.54245</td>\n",
       "      <td>43.1</td>\n",
       "    </tr>\n",
       "  </tbody>\n",
       "</table>\n",
       "</div>"
      ],
      "text/plain": [
       "   No  X1 transaction date  X2 house age  \\\n",
       "0   1             2012.917          32.0   \n",
       "1   2             2012.917          19.5   \n",
       "2   3             2013.583          13.3   \n",
       "3   4             2013.500          13.3   \n",
       "4   5             2012.833           5.0   \n",
       "\n",
       "   X3 distance to the nearest MRT station  X4 number of convenience stores  \\\n",
       "0                                84.87882                               10   \n",
       "1                               306.59470                                9   \n",
       "2                               561.98450                                5   \n",
       "3                               561.98450                                5   \n",
       "4                               390.56840                                5   \n",
       "\n",
       "   X5 latitude  X6 longitude  Y house price of unit area  \n",
       "0     24.98298     121.54024                        37.9  \n",
       "1     24.98034     121.53951                        42.2  \n",
       "2     24.98746     121.54391                        47.3  \n",
       "3     24.98746     121.54391                        54.8  \n",
       "4     24.97937     121.54245                        43.1  "
      ]
     },
     "execution_count": 75,
     "metadata": {},
     "output_type": "execute_result"
    }
   ],
   "source": [
    "data.head()"
   ]
  },
  {
   "cell_type": "code",
   "execution_count": 76,
   "metadata": {},
   "outputs": [
    {
     "data": {
      "text/plain": [
       "(414, 8)"
      ]
     },
     "execution_count": 76,
     "metadata": {},
     "output_type": "execute_result"
    }
   ],
   "source": [
    "data.shape"
   ]
  },
  {
   "cell_type": "code",
   "execution_count": 90,
   "metadata": {},
   "outputs": [],
   "source": [
    "x_data=data.iloc[:,2:7]"
   ]
  },
  {
   "cell_type": "code",
   "execution_count": 91,
   "metadata": {},
   "outputs": [],
   "source": [
    "y_data=data.iloc[:,7]"
   ]
  },
  {
   "cell_type": "code",
   "execution_count": 92,
   "metadata": {},
   "outputs": [
    {
     "data": {
      "text/html": [
       "<div>\n",
       "<style scoped>\n",
       "    .dataframe tbody tr th:only-of-type {\n",
       "        vertical-align: middle;\n",
       "    }\n",
       "\n",
       "    .dataframe tbody tr th {\n",
       "        vertical-align: top;\n",
       "    }\n",
       "\n",
       "    .dataframe thead th {\n",
       "        text-align: right;\n",
       "    }\n",
       "</style>\n",
       "<table border=\"1\" class=\"dataframe\">\n",
       "  <thead>\n",
       "    <tr style=\"text-align: right;\">\n",
       "      <th></th>\n",
       "      <th>X2 house age</th>\n",
       "      <th>X3 distance to the nearest MRT station</th>\n",
       "      <th>X4 number of convenience stores</th>\n",
       "      <th>X5 latitude</th>\n",
       "      <th>X6 longitude</th>\n",
       "    </tr>\n",
       "  </thead>\n",
       "  <tbody>\n",
       "    <tr>\n",
       "      <th>0</th>\n",
       "      <td>32.0</td>\n",
       "      <td>84.87882</td>\n",
       "      <td>10</td>\n",
       "      <td>24.98298</td>\n",
       "      <td>121.54024</td>\n",
       "    </tr>\n",
       "    <tr>\n",
       "      <th>1</th>\n",
       "      <td>19.5</td>\n",
       "      <td>306.59470</td>\n",
       "      <td>9</td>\n",
       "      <td>24.98034</td>\n",
       "      <td>121.53951</td>\n",
       "    </tr>\n",
       "    <tr>\n",
       "      <th>2</th>\n",
       "      <td>13.3</td>\n",
       "      <td>561.98450</td>\n",
       "      <td>5</td>\n",
       "      <td>24.98746</td>\n",
       "      <td>121.54391</td>\n",
       "    </tr>\n",
       "    <tr>\n",
       "      <th>3</th>\n",
       "      <td>13.3</td>\n",
       "      <td>561.98450</td>\n",
       "      <td>5</td>\n",
       "      <td>24.98746</td>\n",
       "      <td>121.54391</td>\n",
       "    </tr>\n",
       "    <tr>\n",
       "      <th>4</th>\n",
       "      <td>5.0</td>\n",
       "      <td>390.56840</td>\n",
       "      <td>5</td>\n",
       "      <td>24.97937</td>\n",
       "      <td>121.54245</td>\n",
       "    </tr>\n",
       "  </tbody>\n",
       "</table>\n",
       "</div>"
      ],
      "text/plain": [
       "   X2 house age  X3 distance to the nearest MRT station  \\\n",
       "0          32.0                                84.87882   \n",
       "1          19.5                               306.59470   \n",
       "2          13.3                               561.98450   \n",
       "3          13.3                               561.98450   \n",
       "4           5.0                               390.56840   \n",
       "\n",
       "   X4 number of convenience stores  X5 latitude  X6 longitude  \n",
       "0                               10     24.98298     121.54024  \n",
       "1                                9     24.98034     121.53951  \n",
       "2                                5     24.98746     121.54391  \n",
       "3                                5     24.98746     121.54391  \n",
       "4                                5     24.97937     121.54245  "
      ]
     },
     "execution_count": 92,
     "metadata": {},
     "output_type": "execute_result"
    }
   ],
   "source": [
    "x_data.head()"
   ]
  },
  {
   "cell_type": "code",
   "execution_count": 93,
   "metadata": {},
   "outputs": [
    {
     "data": {
      "text/plain": [
       "0    37.9\n",
       "1    42.2\n",
       "2    47.3\n",
       "3    54.8\n",
       "4    43.1\n",
       "Name: Y house price of unit area, dtype: float64"
      ]
     },
     "execution_count": 93,
     "metadata": {},
     "output_type": "execute_result"
    }
   ],
   "source": [
    "y_data.head()"
   ]
  },
  {
   "cell_type": "code",
   "execution_count": 94,
   "metadata": {},
   "outputs": [],
   "source": [
    "import seaborn as sns"
   ]
  },
  {
   "cell_type": "code",
   "execution_count": 95,
   "metadata": {},
   "outputs": [],
   "source": [
    "from keras.layers import *"
   ]
  },
  {
   "cell_type": "code",
   "execution_count": 96,
   "metadata": {},
   "outputs": [],
   "source": [
    "from keras.models import Sequential"
   ]
  },
  {
   "cell_type": "code",
   "execution_count": 97,
   "metadata": {},
   "outputs": [],
   "source": [
    "from keras.optimizers import Adam"
   ]
  },
  {
   "cell_type": "code",
   "execution_count": 98,
   "metadata": {},
   "outputs": [],
   "source": [
    "from sklearn.metrics import accuracy_score"
   ]
  },
  {
   "cell_type": "code",
   "execution_count": null,
   "metadata": {},
   "outputs": [],
   "source": []
  },
  {
   "cell_type": "code",
   "execution_count": 99,
   "metadata": {},
   "outputs": [],
   "source": [
    "from sklearn.model_selection import train_test_split"
   ]
  },
  {
   "cell_type": "code",
   "execution_count": 100,
   "metadata": {},
   "outputs": [],
   "source": [
    "model=Sequential()"
   ]
  },
  {
   "cell_type": "code",
   "execution_count": 101,
   "metadata": {},
   "outputs": [],
   "source": [
    "x_train,x_test,y_train,y_test=train_test_split(x_data,y_data,test_size=0.3)"
   ]
  },
  {
   "cell_type": "code",
   "execution_count": 102,
   "metadata": {},
   "outputs": [
    {
     "data": {
      "text/html": [
       "<div>\n",
       "<style scoped>\n",
       "    .dataframe tbody tr th:only-of-type {\n",
       "        vertical-align: middle;\n",
       "    }\n",
       "\n",
       "    .dataframe tbody tr th {\n",
       "        vertical-align: top;\n",
       "    }\n",
       "\n",
       "    .dataframe thead th {\n",
       "        text-align: right;\n",
       "    }\n",
       "</style>\n",
       "<table border=\"1\" class=\"dataframe\">\n",
       "  <thead>\n",
       "    <tr style=\"text-align: right;\">\n",
       "      <th></th>\n",
       "      <th>X2 house age</th>\n",
       "      <th>X3 distance to the nearest MRT station</th>\n",
       "      <th>X4 number of convenience stores</th>\n",
       "      <th>X5 latitude</th>\n",
       "      <th>X6 longitude</th>\n",
       "    </tr>\n",
       "  </thead>\n",
       "  <tbody>\n",
       "    <tr>\n",
       "      <th>360</th>\n",
       "      <td>32.9</td>\n",
       "      <td>87.30222</td>\n",
       "      <td>10</td>\n",
       "      <td>24.98300</td>\n",
       "      <td>121.54022</td>\n",
       "    </tr>\n",
       "    <tr>\n",
       "      <th>220</th>\n",
       "      <td>37.2</td>\n",
       "      <td>186.51010</td>\n",
       "      <td>9</td>\n",
       "      <td>24.97703</td>\n",
       "      <td>121.54265</td>\n",
       "    </tr>\n",
       "    <tr>\n",
       "      <th>285</th>\n",
       "      <td>30.1</td>\n",
       "      <td>718.29370</td>\n",
       "      <td>3</td>\n",
       "      <td>24.97509</td>\n",
       "      <td>121.53644</td>\n",
       "    </tr>\n",
       "    <tr>\n",
       "      <th>312</th>\n",
       "      <td>35.4</td>\n",
       "      <td>318.52920</td>\n",
       "      <td>9</td>\n",
       "      <td>24.97071</td>\n",
       "      <td>121.54069</td>\n",
       "    </tr>\n",
       "    <tr>\n",
       "      <th>35</th>\n",
       "      <td>13.9</td>\n",
       "      <td>4079.41800</td>\n",
       "      <td>0</td>\n",
       "      <td>25.01459</td>\n",
       "      <td>121.51816</td>\n",
       "    </tr>\n",
       "  </tbody>\n",
       "</table>\n",
       "</div>"
      ],
      "text/plain": [
       "     X2 house age  X3 distance to the nearest MRT station  \\\n",
       "360          32.9                                87.30222   \n",
       "220          37.2                               186.51010   \n",
       "285          30.1                               718.29370   \n",
       "312          35.4                               318.52920   \n",
       "35           13.9                              4079.41800   \n",
       "\n",
       "     X4 number of convenience stores  X5 latitude  X6 longitude  \n",
       "360                               10     24.98300     121.54022  \n",
       "220                                9     24.97703     121.54265  \n",
       "285                                3     24.97509     121.53644  \n",
       "312                                9     24.97071     121.54069  \n",
       "35                                 0     25.01459     121.51816  "
      ]
     },
     "execution_count": 102,
     "metadata": {},
     "output_type": "execute_result"
    }
   ],
   "source": [
    "x_train.head()"
   ]
  },
  {
   "cell_type": "code",
   "execution_count": 103,
   "metadata": {},
   "outputs": [
    {
     "data": {
      "text/html": [
       "<div>\n",
       "<style scoped>\n",
       "    .dataframe tbody tr th:only-of-type {\n",
       "        vertical-align: middle;\n",
       "    }\n",
       "\n",
       "    .dataframe tbody tr th {\n",
       "        vertical-align: top;\n",
       "    }\n",
       "\n",
       "    .dataframe thead th {\n",
       "        text-align: right;\n",
       "    }\n",
       "</style>\n",
       "<table border=\"1\" class=\"dataframe\">\n",
       "  <thead>\n",
       "    <tr style=\"text-align: right;\">\n",
       "      <th></th>\n",
       "      <th>X2 house age</th>\n",
       "      <th>X3 distance to the nearest MRT station</th>\n",
       "      <th>X4 number of convenience stores</th>\n",
       "      <th>X5 latitude</th>\n",
       "      <th>X6 longitude</th>\n",
       "    </tr>\n",
       "  </thead>\n",
       "  <tbody>\n",
       "    <tr>\n",
       "      <th>249</th>\n",
       "      <td>18.0</td>\n",
       "      <td>6306.1530</td>\n",
       "      <td>1</td>\n",
       "      <td>24.95743</td>\n",
       "      <td>121.47516</td>\n",
       "    </tr>\n",
       "    <tr>\n",
       "      <th>128</th>\n",
       "      <td>41.3</td>\n",
       "      <td>124.9912</td>\n",
       "      <td>6</td>\n",
       "      <td>24.96674</td>\n",
       "      <td>121.54039</td>\n",
       "    </tr>\n",
       "    <tr>\n",
       "      <th>88</th>\n",
       "      <td>8.9</td>\n",
       "      <td>1406.4300</td>\n",
       "      <td>0</td>\n",
       "      <td>24.98573</td>\n",
       "      <td>121.52758</td>\n",
       "    </tr>\n",
       "    <tr>\n",
       "      <th>345</th>\n",
       "      <td>0.0</td>\n",
       "      <td>185.4296</td>\n",
       "      <td>0</td>\n",
       "      <td>24.97110</td>\n",
       "      <td>121.53170</td>\n",
       "    </tr>\n",
       "    <tr>\n",
       "      <th>113</th>\n",
       "      <td>14.8</td>\n",
       "      <td>393.2606</td>\n",
       "      <td>6</td>\n",
       "      <td>24.96172</td>\n",
       "      <td>121.53812</td>\n",
       "    </tr>\n",
       "  </tbody>\n",
       "</table>\n",
       "</div>"
      ],
      "text/plain": [
       "     X2 house age  X3 distance to the nearest MRT station  \\\n",
       "249          18.0                               6306.1530   \n",
       "128          41.3                                124.9912   \n",
       "88            8.9                               1406.4300   \n",
       "345           0.0                                185.4296   \n",
       "113          14.8                                393.2606   \n",
       "\n",
       "     X4 number of convenience stores  X5 latitude  X6 longitude  \n",
       "249                                1     24.95743     121.47516  \n",
       "128                                6     24.96674     121.54039  \n",
       "88                                 0     24.98573     121.52758  \n",
       "345                                0     24.97110     121.53170  \n",
       "113                                6     24.96172     121.53812  "
      ]
     },
     "execution_count": 103,
     "metadata": {},
     "output_type": "execute_result"
    }
   ],
   "source": [
    "x_test.head()"
   ]
  },
  {
   "cell_type": "code",
   "execution_count": 104,
   "metadata": {},
   "outputs": [],
   "source": [
    "from sklearn.preprocessing import StandardScaler"
   ]
  },
  {
   "cell_type": "code",
   "execution_count": 136,
   "metadata": {},
   "outputs": [],
   "source": [
    "sc=StandardScaler()\n",
    "x_train=sc.fit_transform(x_train)\n",
    "x_test=sc.transform(x_test)"
   ]
  },
  {
   "cell_type": "code",
   "execution_count": 159,
   "metadata": {},
   "outputs": [],
   "source": [
    "model = Sequential()\n",
    "model.add(Dense(5, input_dim=5, kernel_initializer='he_uniform', activation='relu'))\n",
    "\n",
    "model.add(Dense(10, kernel_initializer='he_uniform',activation='relu'))\n",
    "\n",
    "\n",
    "\n",
    "model.add(Dense(1, kernel_initializer='glorot_uniform'))\n",
    "\n",
    "# Compile model\n",
    "model.compile(loss='mean_squared_error', optimizer='adam')"
   ]
  },
  {
   "cell_type": "code",
   "execution_count": 160,
   "metadata": {},
   "outputs": [
    {
     "name": "stdout",
     "output_type": "stream",
     "text": [
      "Model: \"sequential_13\"\n",
      "_________________________________________________________________\n",
      "Layer (type)                 Output Shape              Param #   \n",
      "=================================================================\n",
      "dense_25 (Dense)             (None, 5)                 30        \n",
      "_________________________________________________________________\n",
      "dense_26 (Dense)             (None, 10)                60        \n",
      "_________________________________________________________________\n",
      "dense_27 (Dense)             (None, 1)                 11        \n",
      "=================================================================\n",
      "Total params: 101\n",
      "Trainable params: 101\n",
      "Non-trainable params: 0\n",
      "_________________________________________________________________\n"
     ]
    }
   ],
   "source": [
    "model.summary()"
   ]
  },
  {
   "cell_type": "code",
   "execution_count": 161,
   "metadata": {},
   "outputs": [
    {
     "name": "stdout",
     "output_type": "stream",
     "text": [
      "Epoch 1/200\n",
      "289/289 [==============================] - 0s 668us/step - loss: 1470.8142\n",
      "Epoch 2/200\n",
      "289/289 [==============================] - 0s 383us/step - loss: 1385.5598\n",
      "Epoch 3/200\n",
      "289/289 [==============================] - 0s 404us/step - loss: 1269.3100\n",
      "Epoch 4/200\n",
      "289/289 [==============================] - 0s 390us/step - loss: 1114.3724\n",
      "Epoch 5/200\n",
      "289/289 [==============================] - 0s 403us/step - loss: 927.9904\n",
      "Epoch 6/200\n",
      "289/289 [==============================] - 0s 425us/step - loss: 727.8488\n",
      "Epoch 7/200\n",
      "289/289 [==============================] - 0s 390us/step - loss: 541.0455\n",
      "Epoch 8/200\n",
      "289/289 [==============================] - 0s 416us/step - loss: 389.9969\n",
      "Epoch 9/200\n",
      "289/289 [==============================] - 0s 400us/step - loss: 289.2365\n",
      "Epoch 10/200\n",
      "289/289 [==============================] - 0s 497us/step - loss: 230.9206\n",
      "Epoch 11/200\n",
      "289/289 [==============================] - 0s 431us/step - loss: 193.9535\n",
      "Epoch 12/200\n",
      "289/289 [==============================] - 0s 473us/step - loss: 169.0170\n",
      "Epoch 13/200\n",
      "289/289 [==============================] - 0s 442us/step - loss: 150.6435\n",
      "Epoch 14/200\n",
      "289/289 [==============================] - 0s 411us/step - loss: 135.3683\n",
      "Epoch 15/200\n",
      "289/289 [==============================] - 0s 414us/step - loss: 122.1793\n",
      "Epoch 16/200\n",
      "289/289 [==============================] - 0s 421us/step - loss: 112.0121\n",
      "Epoch 17/200\n",
      "289/289 [==============================] - 0s 514us/step - loss: 103.8213\n",
      "Epoch 18/200\n",
      "289/289 [==============================] - 0s 556us/step - loss: 96.7412\n",
      "Epoch 19/200\n",
      "289/289 [==============================] - 0s 430us/step - loss: 90.9603\n",
      "Epoch 20/200\n",
      "289/289 [==============================] - 0s 421us/step - loss: 86.7700\n",
      "Epoch 21/200\n",
      "289/289 [==============================] - 0s 528us/step - loss: 83.0099\n",
      "Epoch 22/200\n",
      "289/289 [==============================] - 0s 514us/step - loss: 80.0693\n",
      "Epoch 23/200\n",
      "289/289 [==============================] - 0s 395us/step - loss: 77.8423\n",
      "Epoch 24/200\n",
      "289/289 [==============================] - 0s 401us/step - loss: 76.1129\n",
      "Epoch 25/200\n",
      "289/289 [==============================] - 0s 525us/step - loss: 74.8121\n",
      "Epoch 26/200\n",
      "289/289 [==============================] - 0s 458us/step - loss: 73.7440\n",
      "Epoch 27/200\n",
      "289/289 [==============================] - 0s 394us/step - loss: 72.6896\n",
      "Epoch 28/200\n",
      "289/289 [==============================] - 0s 383us/step - loss: 71.7861\n",
      "Epoch 29/200\n",
      "289/289 [==============================] - 0s 573us/step - loss: 71.4307\n",
      "Epoch 30/200\n",
      "289/289 [==============================] - 0s 466us/step - loss: 70.7345\n",
      "Epoch 31/200\n",
      "289/289 [==============================] - 0s 404us/step - loss: 70.3336\n",
      "Epoch 32/200\n",
      "289/289 [==============================] - 0s 390us/step - loss: 70.1231\n",
      "Epoch 33/200\n",
      "289/289 [==============================] - 0s 411us/step - loss: 69.7238\n",
      "Epoch 34/200\n",
      "289/289 [==============================] - 0s 417us/step - loss: 69.7817\n",
      "Epoch 35/200\n",
      "289/289 [==============================] - 0s 410us/step - loss: 69.1311\n",
      "Epoch 36/200\n",
      "289/289 [==============================] - 0s 535us/step - loss: 69.1962\n",
      "Epoch 37/200\n",
      "289/289 [==============================] - 0s 394us/step - loss: 68.9528\n",
      "Epoch 38/200\n",
      "289/289 [==============================] - 0s 397us/step - loss: 68.9264\n",
      "Epoch 39/200\n",
      "289/289 [==============================] - 0s 528us/step - loss: 68.6858\n",
      "Epoch 40/200\n",
      "289/289 [==============================] - 0s 452us/step - loss: 68.2867\n",
      "Epoch 41/200\n",
      "289/289 [==============================] - 0s 397us/step - loss: 67.8517\n",
      "Epoch 42/200\n",
      "289/289 [==============================] - 0s 400us/step - loss: 67.8463\n",
      "Epoch 43/200\n",
      "289/289 [==============================] - 0s 400us/step - loss: 67.6755\n",
      "Epoch 44/200\n",
      "289/289 [==============================] - 0s 497us/step - loss: 67.5460\n",
      "Epoch 45/200\n",
      "289/289 [==============================] - 0s 449us/step - loss: 67.3964\n",
      "Epoch 46/200\n",
      "289/289 [==============================] - 0s 387us/step - loss: 67.1587\n",
      "Epoch 47/200\n",
      "289/289 [==============================] - 0s 397us/step - loss: 67.1198\n",
      "Epoch 48/200\n",
      "289/289 [==============================] - 0s 652us/step - loss: 66.9202\n",
      "Epoch 49/200\n",
      "289/289 [==============================] - 0s 411us/step - loss: 67.0250\n",
      "Epoch 50/200\n",
      "289/289 [==============================] - 0s 388us/step - loss: 66.7162\n",
      "Epoch 51/200\n",
      "289/289 [==============================] - 0s 387us/step - loss: 66.4993\n",
      "Epoch 52/200\n",
      "289/289 [==============================] - 0s 531us/step - loss: 66.5406\n",
      "Epoch 53/200\n",
      "289/289 [==============================] - 0s 418us/step - loss: 66.2956\n",
      "Epoch 54/200\n",
      "289/289 [==============================] - 0s 435us/step - loss: 66.6889\n",
      "Epoch 55/200\n",
      "289/289 [==============================] - 0s 376us/step - loss: 66.6284\n",
      "Epoch 56/200\n",
      "289/289 [==============================] - 0s 405us/step - loss: 66.1781\n",
      "Epoch 57/200\n",
      "289/289 [==============================] - 0s 534us/step - loss: 66.1891\n",
      "Epoch 58/200\n",
      "289/289 [==============================] - 0s 369us/step - loss: 65.9239\n",
      "Epoch 59/200\n",
      "289/289 [==============================] - 0s 366us/step - loss: 65.6635\n",
      "Epoch 60/200\n",
      "289/289 [==============================] - 0s 380us/step - loss: 65.8852\n",
      "Epoch 61/200\n",
      "289/289 [==============================] - 0s 383us/step - loss: 65.6727\n",
      "Epoch 62/200\n",
      "289/289 [==============================] - 0s 587us/step - loss: 65.4872\n",
      "Epoch 63/200\n",
      "289/289 [==============================] - 0s 415us/step - loss: 65.3714\n",
      "Epoch 64/200\n",
      "289/289 [==============================] - 0s 387us/step - loss: 65.3539\n",
      "Epoch 65/200\n",
      "289/289 [==============================] - 0s 390us/step - loss: 65.4190\n",
      "Epoch 66/200\n",
      "289/289 [==============================] - 0s 418us/step - loss: 65.3668\n",
      "Epoch 67/200\n",
      "289/289 [==============================] - 0s 404us/step - loss: 65.3935\n",
      "Epoch 68/200\n",
      "289/289 [==============================] - 0s 521us/step - loss: 65.1119\n",
      "Epoch 69/200\n",
      "289/289 [==============================] - 0s 415us/step - loss: 64.9853\n",
      "Epoch 70/200\n",
      "289/289 [==============================] - 0s 380us/step - loss: 65.1214\n",
      "Epoch 71/200\n",
      "289/289 [==============================] - 0s 459us/step - loss: 65.0094\n",
      "Epoch 72/200\n",
      "289/289 [==============================] - 0s 521us/step - loss: 65.2952\n",
      "Epoch 73/200\n",
      "289/289 [==============================] - 0s 442us/step - loss: 65.0045\n",
      "Epoch 74/200\n",
      "289/289 [==============================] - 0s 435us/step - loss: 64.7396\n",
      "Epoch 75/200\n",
      "289/289 [==============================] - 0s 521us/step - loss: 64.7046\n",
      "Epoch 76/200\n",
      "289/289 [==============================] - 0s 445us/step - loss: 64.8005\n",
      "Epoch 77/200\n",
      "289/289 [==============================] - 0s 462us/step - loss: 64.6633\n",
      "Epoch 78/200\n",
      "289/289 [==============================] - 0s 544us/step - loss: 64.7759\n",
      "Epoch 79/200\n",
      "289/289 [==============================] - 0s 385us/step - loss: 64.5631\n",
      "Epoch 80/200\n",
      "289/289 [==============================] - 0s 392us/step - loss: 64.4621\n",
      "Epoch 81/200\n",
      "289/289 [==============================] - 0s 393us/step - loss: 64.3353\n",
      "Epoch 82/200\n",
      "289/289 [==============================] - 0s 390us/step - loss: 64.4156\n",
      "Epoch 83/200\n",
      "289/289 [==============================] - 0s 383us/step - loss: 64.3606\n",
      "Epoch 84/200\n",
      "289/289 [==============================] - 0s 400us/step - loss: 64.2788\n",
      "Epoch 85/200\n",
      "289/289 [==============================] - 0s 383us/step - loss: 64.2766\n",
      "Epoch 86/200\n",
      "289/289 [==============================] - 0s 438us/step - loss: 64.2516\n",
      "Epoch 87/200\n",
      "289/289 [==============================] - 0s 550us/step - loss: 64.0836\n",
      "Epoch 88/200\n",
      "289/289 [==============================] - 0s 373us/step - loss: 64.2602\n",
      "Epoch 89/200\n",
      "289/289 [==============================] - 0s 397us/step - loss: 64.2491\n",
      "Epoch 90/200\n",
      "289/289 [==============================] - 0s 415us/step - loss: 64.1207\n",
      "Epoch 91/200\n",
      "289/289 [==============================] - 0s 521us/step - loss: 64.0171\n",
      "Epoch 92/200\n",
      "289/289 [==============================] - 0s 439us/step - loss: 64.3166\n",
      "Epoch 93/200\n",
      "289/289 [==============================] - 0s 384us/step - loss: 64.0918\n",
      "Epoch 94/200\n",
      "289/289 [==============================] - 0s 467us/step - loss: 63.7913\n",
      "Epoch 95/200\n",
      "289/289 [==============================] - 0s 493us/step - loss: 64.2198\n",
      "Epoch 96/200\n"
     ]
    },
    {
     "name": "stdout",
     "output_type": "stream",
     "text": [
      "289/289 [==============================] - 0s 397us/step - loss: 63.8460\n",
      "Epoch 97/200\n",
      "289/289 [==============================] - 0s 395us/step - loss: 63.9505\n",
      "Epoch 98/200\n",
      "289/289 [==============================] - 0s 512us/step - loss: 63.8845\n",
      "Epoch 99/200\n",
      "289/289 [==============================] - 0s 455us/step - loss: 63.8524\n",
      "Epoch 100/200\n",
      "289/289 [==============================] - 0s 373us/step - loss: 63.7976\n",
      "Epoch 101/200\n",
      "289/289 [==============================] - 0s 397us/step - loss: 63.9262\n",
      "Epoch 102/200\n",
      "289/289 [==============================] - 0s 445us/step - loss: 63.7983\n",
      "Epoch 103/200\n",
      "289/289 [==============================] - 0s 590us/step - loss: 63.6810\n",
      "Epoch 104/200\n",
      "289/289 [==============================] - 0s 411us/step - loss: 64.2345\n",
      "Epoch 105/200\n",
      "289/289 [==============================] - 0s 514us/step - loss: 63.7926\n",
      "Epoch 106/200\n",
      "289/289 [==============================] - 0s 452us/step - loss: 63.5747\n",
      "Epoch 107/200\n",
      "289/289 [==============================] - 0s 442us/step - loss: 63.7053\n",
      "Epoch 108/200\n",
      "289/289 [==============================] - 0s 497us/step - loss: 63.5966\n",
      "Epoch 109/200\n",
      "289/289 [==============================] - 0s 445us/step - loss: 63.7933\n",
      "Epoch 110/200\n",
      "289/289 [==============================] - 0s 500us/step - loss: 63.7470\n",
      "Epoch 111/200\n",
      "289/289 [==============================] - 0s 465us/step - loss: 63.9807\n",
      "Epoch 112/200\n",
      "289/289 [==============================] - 0s 416us/step - loss: 63.5204\n",
      "Epoch 113/200\n",
      "289/289 [==============================] - 0s 398us/step - loss: 63.5411\n",
      "Epoch 114/200\n",
      "289/289 [==============================] - 0s 397us/step - loss: 63.4686\n",
      "Epoch 115/200\n",
      "289/289 [==============================] - 0s 397us/step - loss: 63.4571\n",
      "Epoch 116/200\n",
      "289/289 [==============================] - 0s 515us/step - loss: 63.4150\n",
      "Epoch 117/200\n",
      "289/289 [==============================] - 0s 804us/step - loss: 63.4459\n",
      "Epoch 118/200\n",
      "289/289 [==============================] - 0s 645us/step - loss: 63.5625\n",
      "Epoch 119/200\n",
      "289/289 [==============================] - 0s 445us/step - loss: 63.3138\n",
      "Epoch 120/200\n",
      "289/289 [==============================] - 0s 358us/step - loss: 63.4035\n",
      "Epoch 121/200\n",
      "289/289 [==============================] - 0s 377us/step - loss: 63.2743\n",
      "Epoch 122/200\n",
      "289/289 [==============================] - 0s 634us/step - loss: 63.3188\n",
      "Epoch 123/200\n",
      "289/289 [==============================] - 0s 366us/step - loss: 63.3476\n",
      "Epoch 124/200\n",
      "289/289 [==============================] - 0s 383us/step - loss: 63.6167\n",
      "Epoch 125/200\n",
      "289/289 [==============================] - 0s 429us/step - loss: 63.1445\n",
      "Epoch 126/200\n",
      "289/289 [==============================] - 0s 459us/step - loss: 63.3269\n",
      "Epoch 127/200\n",
      "289/289 [==============================] - 0s 428us/step - loss: 63.1958\n",
      "Epoch 128/200\n",
      "289/289 [==============================] - 0s 704us/step - loss: 63.2609\n",
      "Epoch 129/200\n",
      "289/289 [==============================] - 0s 380us/step - loss: 63.1102\n",
      "Epoch 130/200\n",
      "289/289 [==============================] - 0s 414us/step - loss: 63.3166\n",
      "Epoch 131/200\n",
      "289/289 [==============================] - 0s 483us/step - loss: 63.1804\n",
      "Epoch 132/200\n",
      "289/289 [==============================] - 0s 376us/step - loss: 63.0614\n",
      "Epoch 133/200\n",
      "289/289 [==============================] - 0s 587us/step - loss: 63.0595\n",
      "Epoch 134/200\n",
      "289/289 [==============================] - 0s 418us/step - loss: 63.1543\n",
      "Epoch 135/200\n",
      "289/289 [==============================] - 0s 448us/step - loss: 63.1604\n",
      "Epoch 136/200\n",
      "289/289 [==============================] - 0s 576us/step - loss: 63.3219\n",
      "Epoch 137/200\n",
      "289/289 [==============================] - 0s 396us/step - loss: 62.8751\n",
      "Epoch 138/200\n",
      "289/289 [==============================] - 0s 362us/step - loss: 62.9556\n",
      "Epoch 139/200\n",
      "289/289 [==============================] - 0s 511us/step - loss: 63.1490\n",
      "Epoch 140/200\n",
      "289/289 [==============================] - 0s 457us/step - loss: 62.9622\n",
      "Epoch 141/200\n",
      "289/289 [==============================] - 0s 381us/step - loss: 63.3308\n",
      "Epoch 142/200\n",
      "289/289 [==============================] - 0s 655us/step - loss: 63.1866\n",
      "Epoch 143/200\n",
      "289/289 [==============================] - 0s 618us/step - loss: 62.9555\n",
      "Epoch 144/200\n",
      "289/289 [==============================] - 0s 371us/step - loss: 62.9597\n",
      "Epoch 145/200\n",
      "289/289 [==============================] - 0s 395us/step - loss: 62.8990\n",
      "Epoch 146/200\n",
      "289/289 [==============================] - 0s 590us/step - loss: 62.9607\n",
      "Epoch 147/200\n",
      "289/289 [==============================] - 0s 437us/step - loss: 63.0503\n",
      "Epoch 148/200\n",
      "289/289 [==============================] - 0s 389us/step - loss: 62.9453\n",
      "Epoch 149/200\n",
      "289/289 [==============================] - 0s 473us/step - loss: 63.1923\n",
      "Epoch 150/200\n",
      "289/289 [==============================] - 0s 407us/step - loss: 63.1775\n",
      "Epoch 151/200\n",
      "289/289 [==============================] - 0s 393us/step - loss: 62.6731\n",
      "Epoch 152/200\n",
      "289/289 [==============================] - 0s 452us/step - loss: 62.8937\n",
      "Epoch 153/200\n",
      "289/289 [==============================] - 0s 489us/step - loss: 62.9988\n",
      "Epoch 154/200\n",
      "289/289 [==============================] - 0s 383us/step - loss: 63.1889\n",
      "Epoch 155/200\n",
      "289/289 [==============================] - 0s 457us/step - loss: 62.9152\n",
      "Epoch 156/200\n",
      "289/289 [==============================] - 0s 499us/step - loss: 62.8082\n",
      "Epoch 157/200\n",
      "289/289 [==============================] - 0s 392us/step - loss: 62.6533\n",
      "Epoch 158/200\n",
      "289/289 [==============================] - 0s 421us/step - loss: 62.7547\n",
      "Epoch 159/200\n",
      "289/289 [==============================] - 0s 527us/step - loss: 62.6745\n",
      "Epoch 160/200\n",
      "289/289 [==============================] - 0s 459us/step - loss: 62.6570\n",
      "Epoch 161/200\n",
      "289/289 [==============================] - 0s 442us/step - loss: 62.9862\n",
      "Epoch 162/200\n",
      "289/289 [==============================] - 0s 452us/step - loss: 62.6355\n",
      "Epoch 163/200\n",
      "289/289 [==============================] - 0s 527us/step - loss: 62.7915\n",
      "Epoch 164/200\n",
      "289/289 [==============================] - 0s 443us/step - loss: 62.6810\n",
      "Epoch 165/200\n",
      "289/289 [==============================] - 0s 383us/step - loss: 62.8844\n",
      "Epoch 166/200\n",
      "289/289 [==============================] - 0s 397us/step - loss: 62.9002\n",
      "Epoch 167/200\n",
      "289/289 [==============================] - 0s 476us/step - loss: 62.4698\n",
      "Epoch 168/200\n",
      "289/289 [==============================] - 0s 471us/step - loss: 62.6457\n",
      "Epoch 169/200\n",
      "289/289 [==============================] - 0s 411us/step - loss: 62.4010\n",
      "Epoch 170/200\n",
      "289/289 [==============================] - 0s 385us/step - loss: 62.4531\n",
      "Epoch 171/200\n",
      "289/289 [==============================] - 0s 573us/step - loss: 62.5978\n",
      "Epoch 172/200\n",
      "289/289 [==============================] - 0s 431us/step - loss: 62.7144\n",
      "Epoch 173/200\n",
      "289/289 [==============================] - 0s 376us/step - loss: 62.7033\n",
      "Epoch 174/200\n",
      "289/289 [==============================] - 0s 407us/step - loss: 62.6173\n",
      "Epoch 175/200\n",
      "289/289 [==============================] - 0s 528us/step - loss: 62.5595\n",
      "Epoch 176/200\n",
      "289/289 [==============================] - 0s 455us/step - loss: 62.7399\n",
      "Epoch 177/200\n",
      "289/289 [==============================] - 0s 393us/step - loss: 62.8435\n",
      "Epoch 178/200\n",
      "289/289 [==============================] - 0s 393us/step - loss: 62.4031\n",
      "Epoch 179/200\n",
      "289/289 [==============================] - 0s 532us/step - loss: 62.5588\n",
      "Epoch 180/200\n",
      "289/289 [==============================] - 0s 449us/step - loss: 62.3093\n",
      "Epoch 181/200\n",
      "289/289 [==============================] - 0s 372us/step - loss: 62.3658\n",
      "Epoch 182/200\n",
      "289/289 [==============================] - 0s 512us/step - loss: 62.2519\n",
      "Epoch 183/200\n",
      "289/289 [==============================] - 0s 443us/step - loss: 62.3878\n",
      "Epoch 184/200\n",
      "289/289 [==============================] - 0s 384us/step - loss: 62.6900\n",
      "Epoch 185/200\n",
      "289/289 [==============================] - 0s 549us/step - loss: 62.4737\n",
      "Epoch 186/200\n",
      "289/289 [==============================] - 0s 433us/step - loss: 62.2924\n",
      "Epoch 187/200\n",
      "289/289 [==============================] - 0s 376us/step - loss: 62.3481\n",
      "Epoch 188/200\n",
      "289/289 [==============================] - 0s 493us/step - loss: 62.0952\n",
      "Epoch 189/200\n",
      "289/289 [==============================] - 0s 476us/step - loss: 62.1268\n",
      "Epoch 190/200\n"
     ]
    },
    {
     "name": "stdout",
     "output_type": "stream",
     "text": [
      "289/289 [==============================] - 0s 407us/step - loss: 62.1079\n",
      "Epoch 191/200\n",
      "289/289 [==============================] - 0s 438us/step - loss: 62.2168\n",
      "Epoch 192/200\n",
      "289/289 [==============================] - 0s 422us/step - loss: 62.2251\n",
      "Epoch 193/200\n",
      "289/289 [==============================] - 0s 392us/step - loss: 62.1870\n",
      "Epoch 194/200\n",
      "289/289 [==============================] - 0s 514us/step - loss: 62.3545\n",
      "Epoch 195/200\n",
      "289/289 [==============================] - 0s 542us/step - loss: 62.0613\n",
      "Epoch 196/200\n",
      "289/289 [==============================] - 0s 382us/step - loss: 62.3284\n",
      "Epoch 197/200\n",
      "289/289 [==============================] - 0s 542us/step - loss: 62.1639\n",
      "Epoch 198/200\n",
      "289/289 [==============================] - 0s 773us/step - loss: 62.0314\n",
      "Epoch 199/200\n",
      "289/289 [==============================] - 0s 417us/step - loss: 62.5549\n",
      "Epoch 200/200\n",
      "289/289 [==============================] - 0s 387us/step - loss: 62.1934\n"
     ]
    },
    {
     "data": {
      "text/plain": [
       "<keras.callbacks.callbacks.History at 0x2058ff7d448>"
      ]
     },
     "execution_count": 161,
     "metadata": {},
     "output_type": "execute_result"
    }
   ],
   "source": [
    "model.fit(x_train,y_train,batch_size=5,epochs=200)"
   ]
  },
  {
   "cell_type": "code",
   "execution_count": 150,
   "metadata": {},
   "outputs": [],
   "source": [
    "y_data1=model.predict(x_test)"
   ]
  },
  {
   "cell_type": "code",
   "execution_count": 151,
   "metadata": {},
   "outputs": [],
   "source": [
    "from sklearn.metrics import mean_absolute_error"
   ]
  },
  {
   "cell_type": "code",
   "execution_count": 152,
   "metadata": {},
   "outputs": [
    {
     "name": "stdout",
     "output_type": "stream",
     "text": [
      "5.3240549377441395\n"
     ]
    }
   ],
   "source": [
    "print(mean_absolute_error(y_test, y_data1))"
   ]
  },
  {
   "cell_type": "code",
   "execution_count": 153,
   "metadata": {},
   "outputs": [],
   "source": [
    "import matplotlib.pyplot as plt"
   ]
  },
  {
   "cell_type": "code",
   "execution_count": 154,
   "metadata": {},
   "outputs": [
    {
     "data": {
      "text/plain": [
       "Text(0, 0.5, 'y_pred')"
      ]
     },
     "execution_count": 154,
     "metadata": {},
     "output_type": "execute_result"
    },
    {
     "data": {
      "image/png": "[encoded data removed]",
      "text/plain": [
       "<Figure size 432x288 with 1 Axes>"
      ]
     },
     "metadata": {
      "needs_background": "light"
     },
     "output_type": "display_data"
    }
   ],
   "source": [
    "plt.scatter(y_test,y_data1)\n",
    "plt.xlabel('y_test')\n",
    "plt.ylabel('y_pred')"
   ]
  },
  {
   "cell_type": "code",
   "execution_count": 167,
   "metadata": {},
   "outputs": [
    {
     "name": "stderr",
     "output_type": "stream",
     "text": [
      "C:\\Users\\vvsha\\anaconda3\\envs\\gputest\\lib\\site-packages\\seaborn\\distributions.py:2551: FutureWarning: `distplot` is a deprecated function and will be removed in a future version. Please adapt your code to use either `displot` (a figure-level function with similar flexibility) or `histplot` (an axes-level function for histograms).\n",
      "  warnings.warn(msg, FutureWarning)\n"
     ]
    },
    {
     "data": {
      "text/plain": [
       "<matplotlib.axes._subplots.AxesSubplot at 0x2058ff17cc8>"
      ]
     },
     "execution_count": 167,
     "metadata": {},
     "output_type": "execute_result"
    },
    {
     "data": {
      "image/png": "[encoded data removed]",
      "text/plain": [
       "<Figure size 432x288 with 1 Axes>"
      ]
     },
     "metadata": {
      "needs_background": "light"
     },
     "output_type": "display_data"
    }
   ],
   "source": [
    "sns.distplot(y_test-y_data1)"
   ]
  },
  {
   "cell_type": "code",
   "execution_count": 164,
   "metadata": {},
   "outputs": [
    {
     "data": {
      "text/plain": [
       "(125, 1)"
      ]
     },
     "execution_count": 164,
     "metadata": {},
     "output_type": "execute_result"
    }
   ],
   "source": [
    "y_data1.shape"
   ]
  },
  {
   "cell_type": "code",
   "execution_count": 166,
   "metadata": {},
   "outputs": [],
   "source": [
    "y_test=np.expand_dims(y_test,axis=1)"
   ]
  },
  {
   "cell_type": "code",
   "execution_count": null,
   "metadata": {},
   "outputs": [],
   "source": []
  }
 ],
 "metadata": {
  "kernelspec": {
   "display_name": "gputest",
   "language": "python",
   "name": "gputest"
  },
  "language_info": {
   "codemirror_mode": {
    "name": "ipython",
    "version": 3
   },
   "file_extension": ".py",
   "mimetype": "text/x-python",
   "name": "python",
   "nbconvert_exporter": "python",
   "pygments_lexer": "ipython3",
   "version": "3.7.7"
  }
 },
 "nbformat": 4,
 "nbformat_minor": 4
}
